{
 "cells": [
  {
   "cell_type": "code",
   "execution_count": 1,
   "metadata": {},
   "outputs": [],
   "source": [
    "import sagemaker, time\n",
    "from sagemaker import get_execution_role\n",
    "import boto3, json"
   ]
  },
  {
   "cell_type": "code",
   "execution_count": 2,
   "metadata": {},
   "outputs": [
    {
     "name": "stdout",
     "output_type": "stream",
     "text": [
      "Role: arn:aws:iam::417193079866:role/service-role/AmazonSageMaker-ExecutionRole-20200917T123532\n",
      "sagemaker-us-east-2-417193079866\n"
     ]
    }
   ],
   "source": [
    "sess = sagemaker.Session()\n",
    "role = get_execution_role()\n",
    "print('Role: '+role)\n",
    "bucket = sess.default_bucket()\n",
    "print(bucket)\n",
    "region_name = boto3.Session().region_name\n",
    "prefix = 'fasttext/pretrained'"
   ]
  },
  {
   "cell_type": "code",
   "execution_count": 3,
   "metadata": {},
   "outputs": [
    {
     "name": "stderr",
     "output_type": "stream",
     "text": [
      "'get_image_uri' method will be deprecated in favor of 'ImageURIProvider' class in SageMaker Python SDK v2.\n"
     ]
    },
    {
     "name": "stdout",
     "output_type": "stream",
     "text": [
      "testing blazingtext\n"
     ]
    }
   ],
   "source": [
    "container = sagemaker.amazon.amazon_estimator.get_image_uri(region_name, 'blazingtext','latest')\n",
    "print('testing blazingtext')"
   ]
  },
  {
   "cell_type": "code",
   "execution_count": 4,
   "metadata": {},
   "outputs": [
    {
     "name": "stdout",
     "output_type": "stream",
     "text": [
      "--2020-11-10 05:26:21--  https://dl.fbaipublicfiles.com/fasttext/supervised-models/lid.176.bin\n",
      "Resolving dl.fbaipublicfiles.com (dl.fbaipublicfiles.com)... 172.67.9.4, 104.22.74.142, 104.22.75.142, ...\n",
      "Connecting to dl.fbaipublicfiles.com (dl.fbaipublicfiles.com)|172.67.9.4|:443... connected.\n",
      "HTTP request sent, awaiting response... 200 OK\n",
      "Length: 131266198 (125M) [application/octet-stream]\n",
      "Saving to: ‘model.bin’\n",
      "\n",
      "model.bin           100%[===================>] 125.18M  16.5MB/s    in 8.0s    \n",
      "\n",
      "2020-11-10 05:26:29 (15.7 MB/s) - ‘model.bin’ saved [131266198/131266198]\n",
      "\n"
     ]
    }
   ],
   "source": [
    "## download the data\n",
    "!wget -O model.bin https://dl.fbaipublicfiles.com/fasttext/supervised-models/lid.176.bin"
   ]
  },
  {
   "cell_type": "code",
   "execution_count": 5,
   "metadata": {},
   "outputs": [
    {
     "name": "stdout",
     "output_type": "stream",
     "text": [
      "model.bin\r\n"
     ]
    }
   ],
   "source": [
    "!tar -czvf langid.tar.gz model.bin\n",
    "model_location = sess.upload_data('langid.tar.gz', bucket, key_prefix = prefix)\n",
    "!rm langid.tar.gz model.bin"
   ]
  },
  {
   "cell_type": "code",
   "execution_count": 6,
   "metadata": {},
   "outputs": [
    {
     "name": "stderr",
     "output_type": "stream",
     "text": [
      "Parameter image will be renamed to image_uri in SageMaker Python SDK v2.\n"
     ]
    },
    {
     "name": "stdout",
     "output_type": "stream",
     "text": [
      "---------------!"
     ]
    }
   ],
   "source": [
    "lang_id = sagemaker.Model(model_data= model_location, image= container, role=role, sagemaker_session=sess)\n",
    "lang_id.deploy(initial_instance_count = 1, instance_type = 'ml.m4.xlarge')\n",
    "predictor = sagemaker.RealTimePredictor(endpoint=lang_id.endpoint_name,\n",
    "                                       sagemaker_session=sess,\n",
    "                                       serializer=json.dumps,\n",
    "                                       deserializer=sagemaker.predictor.json_deserializer)"
   ]
  },
  {
   "cell_type": "code",
   "execution_count": 7,
   "metadata": {},
   "outputs": [],
   "source": [
    "sentences = ['Wherefore art thou Romeo?',\n",
    "            \"Ceci n'est pas une pipe.\",\n",
    "            'Ich bin ein Berliner.']\n",
    "\n",
    "payload = {'instances': sentences}"
   ]
  },
  {
   "cell_type": "code",
   "execution_count": 8,
   "metadata": {},
   "outputs": [
    {
     "name": "stdout",
     "output_type": "stream",
     "text": [
      "[{'label': ['__label__en'], 'prob': [0.6306219100952148]}, {'label': ['__label__fr'], 'prob': [0.9999626874923706]}, {'label': ['__label__de'], 'prob': [0.9984368681907654]}]\n"
     ]
    }
   ],
   "source": [
    "predictions = predictor.predict(payload)\n",
    "print(predictions)"
   ]
  },
  {
   "cell_type": "code",
   "execution_count": 9,
   "metadata": {},
   "outputs": [
    {
     "name": "stdout",
     "output_type": "stream",
     "text": [
      "[{'label': 'EN', 'prob': [0.6306219100952148]}, {'label': 'FR', 'prob': [0.9999626874923706]}, {'label': 'DE', 'prob': [0.9984368681907654]}]\n"
     ]
    }
   ],
   "source": [
    "import copy \n",
    "predictions_copy = copy.deepcopy(predictions)\n",
    "\n",
    "#changing the labels in-place\n",
    "for output in predictions_copy:\n",
    "    output['label'] = output['label'][0][9:].upper()\n",
    "print(predictions_copy)"
   ]
  },
  {
   "cell_type": "code",
   "execution_count": 10,
   "metadata": {},
   "outputs": [],
   "source": [
    "sess.delete_endpoint(predictor.endpoint)"
   ]
  },
  {
   "cell_type": "code",
   "execution_count": null,
   "metadata": {},
   "outputs": [],
   "source": []
  }
 ],
 "metadata": {
  "kernelspec": {
   "display_name": "conda_python3",
   "language": "python",
   "name": "conda_python3"
  },
  "language_info": {
   "codemirror_mode": {
    "name": "ipython",
    "version": 3
   },
   "file_extension": ".py",
   "mimetype": "text/x-python",
   "name": "python",
   "nbconvert_exporter": "python",
   "pygments_lexer": "ipython3",
   "version": "3.6.10"
  }
 },
 "nbformat": 4,
 "nbformat_minor": 4
}
